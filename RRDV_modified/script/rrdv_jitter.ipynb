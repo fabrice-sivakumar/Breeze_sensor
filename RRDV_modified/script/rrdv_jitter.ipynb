{
 "cells": [
  {
   "cell_type": "code",
   "execution_count": 108,
   "id": "43711975",
   "metadata": {},
   "outputs": [],
   "source": [
    "import pandas as pd\n",
    "import glob\n",
    "import os\n",
    "import seaborn as sns\n",
    "\n",
    "path = r'C:\\Users\\tsavic\\Dropbox\\FRANCUSKA\\CIFRE\\my papers\\RRDV\\time_sync_measurements\\20220825-0001' # use your path\n",
    "all_files = glob.glob(os.path.join(path , \"*.csv\"))"
   ]
  },
  {
   "cell_type": "code",
   "execution_count": 121,
   "id": "1db213a1",
   "metadata": {
    "scrolled": true
   },
   "outputs": [],
   "source": [
    "jitter_list = []\n",
    "\n",
    "for filename in all_files:\n",
    "    df              = pd.read_csv(filename, index_col=None, header=0) # read CSV\n",
    "    df              = df.drop(df[df['Time'] == '(ns)'].index)         # remove the first row\n",
    "    \n",
    "    df['Channel A'] = pd.to_numeric(df['Channel A'])                  # convert from str to float\n",
    "    df['Channel B'] = pd.to_numeric(df['Channel B'])                  # convert from str to float\n",
    "    df['Time']      = pd.to_numeric(df['Time'])                       # convert from str to float\n",
    "    \n",
    "    a = df.iloc[(df['Channel A']-1.5).abs().argsort()[:1]]            # get the closest number to 1.5V for first pin\n",
    "    b = df.iloc[(df['Channel B']-1.5).abs().argsort()[:1]]            # get the closest number to 1.5V for second pin\n",
    "    c = a['Time'].iloc[0] - b['Time'].iloc[0]                         # calculate the jitter for the events above\n",
    "    \n",
    "    jitter_list.append(c)\n",
    "    \n",
    "jitter_df = pd.DataFrame(jitter_list, columns=[\"Jitter [ns]\"])             # create a jitter dataframe"
   ]
  },
  {
   "cell_type": "code",
   "execution_count": 124,
   "id": "e245707f",
   "metadata": {},
   "outputs": [
    {
     "data": {
      "text/html": [
       "<div>\n",
       "<style scoped>\n",
       "    .dataframe tbody tr th:only-of-type {\n",
       "        vertical-align: middle;\n",
       "    }\n",
       "\n",
       "    .dataframe tbody tr th {\n",
       "        vertical-align: top;\n",
       "    }\n",
       "\n",
       "    .dataframe thead th {\n",
       "        text-align: right;\n",
       "    }\n",
       "</style>\n",
       "<table border=\"1\" class=\"dataframe\">\n",
       "  <thead>\n",
       "    <tr style=\"text-align: right;\">\n",
       "      <th></th>\n",
       "      <th>Jitter [ns]</th>\n",
       "    </tr>\n",
       "  </thead>\n",
       "  <tbody>\n",
       "    <tr>\n",
       "      <th>count</th>\n",
       "      <td>994.000000</td>\n",
       "    </tr>\n",
       "    <tr>\n",
       "      <th>mean</th>\n",
       "      <td>-0.054326</td>\n",
       "    </tr>\n",
       "    <tr>\n",
       "      <th>std</th>\n",
       "      <td>109.123192</td>\n",
       "    </tr>\n",
       "    <tr>\n",
       "      <th>min</th>\n",
       "      <td>-399.999989</td>\n",
       "    </tr>\n",
       "    <tr>\n",
       "      <th>25%</th>\n",
       "      <td>-78.374998</td>\n",
       "    </tr>\n",
       "    <tr>\n",
       "      <th>50%</th>\n",
       "      <td>0.250000</td>\n",
       "    </tr>\n",
       "    <tr>\n",
       "      <th>75%</th>\n",
       "      <td>74.624998</td>\n",
       "    </tr>\n",
       "    <tr>\n",
       "      <th>max</th>\n",
       "      <td>508.999986</td>\n",
       "    </tr>\n",
       "  </tbody>\n",
       "</table>\n",
       "</div>"
      ],
      "text/plain": [
       "       Jitter [ns]\n",
       "count   994.000000\n",
       "mean     -0.054326\n",
       "std     109.123192\n",
       "min    -399.999989\n",
       "25%     -78.374998\n",
       "50%       0.250000\n",
       "75%      74.624998\n",
       "max     508.999986"
      ]
     },
     "execution_count": 124,
     "metadata": {},
     "output_type": "execute_result"
    }
   ],
   "source": [
    "jitter_df.describe()"
   ]
  },
  {
   "cell_type": "code",
   "execution_count": 123,
   "id": "9deefbeb",
   "metadata": {},
   "outputs": [
    {
     "data": {
      "text/plain": [
       "<seaborn.axisgrid.FacetGrid at 0x1966c3282b0>"
      ]
     },
     "execution_count": 123,
     "metadata": {},
     "output_type": "execute_result"
    },
    {
     "data": {
      "image/png": "[encoded data removed]",
      "text/plain": [
       "<Figure size 804.475x360 with 1 Axes>"
      ]
     },
     "metadata": {},
     "output_type": "display_data"
    }
   ],
   "source": [
    "sns.set_theme() \n",
    "p = sns.displot(jitter_df, aspect=2, bins = 30)\n",
    "p.set(xlabel=\"Jitter [ns]\")"
   ]
  },
  {
   "cell_type": "code",
   "execution_count": null,
   "id": "a608d35f",
   "metadata": {},
   "outputs": [],
   "source": []
  }
 ],
 "metadata": {
  "kernelspec": {
   "display_name": "Python 3",
   "language": "python",
   "name": "python3"
  },
  "language_info": {
   "codemirror_mode": {
    "name": "ipython",
    "version": 3
   },
   "file_extension": ".py",
   "mimetype": "text/x-python",
   "name": "python",
   "nbconvert_exporter": "python",
   "pygments_lexer": "ipython3",
   "version": "3.8.8"
  }
 },
 "nbformat": 4,
 "nbformat_minor": 5
}
